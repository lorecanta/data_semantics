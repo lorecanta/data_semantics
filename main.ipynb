{
 "cells": [
  {
   "cell_type": "code",
   "execution_count": 1,
   "metadata": {},
   "outputs": [],
   "source": [
    "from utils import load_model_and_files, get_model_details, reconstruct_word, merge_results, preprocess_text, preprocess_stopwords, preprocess_lemmatization, traduci_output, process_text_with_models, process_emotions_and_translate"
   ]
  },
  {
   "cell_type": "code",
   "execution_count": 2,
   "metadata": {},
   "outputs": [
    {
     "name": "stdout",
     "output_type": "stream",
     "text": [
      "Caricamento modello 1: osiria/bert-italian-uncased-ner\n"
     ]
    },
    {
     "name": "stderr",
     "output_type": "stream",
     "text": [
      "Device set to use cpu\n"
     ]
    },
    {
     "name": "stdout",
     "output_type": "stream",
     "text": [
      "Caricamento modello 2: IVN-RIN/MedPsyNIT\n"
     ]
    },
    {
     "name": "stderr",
     "output_type": "stream",
     "text": [
      "Device set to use cpu\n"
     ]
    },
    {
     "name": "stdout",
     "output_type": "stream",
     "text": [
      "Caricamento modello 3: SamLowe/roberta-base-go_emotions\n"
     ]
    },
    {
     "name": "stderr",
     "output_type": "stream",
     "text": [
      "Device set to use cpu\n"
     ]
    },
    {
     "name": "stdout",
     "output_type": "stream",
     "text": [
      "Caricamento modello 4: Helsinki-NLP/opus-mt-it-en\n"
     ]
    },
    {
     "name": "stderr",
     "output_type": "stream",
     "text": [
      "c:\\Users\\lore9\\Documents\\GitHub\\data_semantics\\.venv\\Lib\\site-packages\\transformers\\models\\marian\\tokenization_marian.py:175: UserWarning: Recommended: pip install sacremoses.\n",
      "  warnings.warn(\"Recommended: pip install sacremoses.\")\n"
     ]
    }
   ],
   "source": [
    "# 1. Recupera i dettagli dei modelli\n",
    "model_details = get_model_details()\n",
    "\n",
    "# 2. Assegna manualmente le tuple a  separate\n",
    "(model_1_id, model_1_type, model_1_files), (model_2_id, model_2_type, model_2_files), (model_3_id, model_3_type, model_3_files), (model_4_id, model_4_type, model_4_files) = model_details\n",
    "\n",
    "# 3. Usa i dettagli per caricare i modelli\n",
    "print(f\"Caricamento modello 1: {model_1_id}\")\n",
    "model_1_pipeline = load_model_and_files(model_1_id, model_type=model_1_type)\n",
    "\n",
    "print(f\"Caricamento modello 2: {model_2_id}\")\n",
    "model_2_pipeline = load_model_and_files(model_2_id, model_type=model_2_type)\n",
    "\n",
    "print(f\"Caricamento modello 3: {model_3_id}\")\n",
    "model_3_pipeline = load_model_and_files(model_3_id, model_type=model_3_type)\n",
    "\n",
    "print(f\"Caricamento modello 4: {model_4_id}\")\n",
    "model_4_pipeline = load_model_and_files(model_4_id, model_type=model_4_type)\n"
   ]
  },
  {
   "cell_type": "code",
   "execution_count": 13,
   "metadata": {},
   "outputs": [],
   "source": [
    "tetx = \"\""
   ]
  },
  {
   "cell_type": "code",
   "execution_count": 14,
   "metadata": {},
   "outputs": [],
   "source": [
    "risultato_ner = process_text_with_models(text, model_1_pipeline, model_2_pipeline, model_1_id, model_2_id)\n",
    "risultato_sentiment = process_emotions_and_translate(text, model_4_pipeline, model_3_pipeline)"
   ]
  },
  {
   "cell_type": "code",
   "execution_count": 16,
   "metadata": {},
   "outputs": [
    {
     "data": {
      "text/plain": [
       "[[{'label': 'fastidio', 'score': 0.48068368434906006},\n",
       "  {'label': 'neutrale', 'score': 0.22056682407855988},\n",
       "  {'label': 'rabbia', 'score': 0.17501501739025116},\n",
       "  {'label': 'disapprovazione', 'score': 0.044104527682065964},\n",
       "  {'label': 'delusione', 'score': 0.040527306497097015},\n",
       "  {'label': 'cura', 'score': 0.021076343953609467},\n",
       "  {'label': 'ottimismo', 'score': 0.016099151223897934},\n",
       "  {'label': 'disgusto', 'score': 0.0137892235070467},\n",
       "  {'label': 'approvazione', 'score': 0.011975865811109543},\n",
       "  {'label': 'tristezza', 'score': 0.008876400999724865},\n",
       "  {'label': 'realizzazione', 'score': 0.007015013135969639},\n",
       "  {'label': 'desiderio', 'score': 0.0062461793422698975},\n",
       "  {'label': 'imbarazzo', 'score': 0.0026528399903327227},\n",
       "  {'label': 'paura', 'score': 0.001991801429539919},\n",
       "  {'label': 'divertimento', 'score': 0.0013408828526735306},\n",
       "  {'label': 'gioia', 'score': 0.001288167666643858},\n",
       "  {'label': 'confusione', 'score': 0.0011964109726250172},\n",
       "  {'label': 'rimorso', 'score': 0.001156170037575066},\n",
       "  {'label': 'nervosismo', 'score': 0.0011124801822006702},\n",
       "  {'label': 'curiosità', 'score': 0.0010775127448141575},\n",
       "  {'label': 'ammirazione', 'score': 0.0009611814166419208},\n",
       "  {'label': 'gratitudine', 'score': 0.0008944277069531381},\n",
       "  {'label': 'eccitazione', 'score': 0.0008170895162038505},\n",
       "  {'label': 'amore', 'score': 0.0008079300168901682},\n",
       "  {'label': 'lutto', 'score': 0.0007653535576537251},\n",
       "  {'label': 'rilievo', 'score': 0.0006740321405231953},\n",
       "  {'label': 'orgoglio', 'score': 0.0006427939515560865},\n",
       "  {'label': 'sorpresa', 'score': 0.0005445967544801533}]]"
      ]
     },
     "execution_count": 16,
     "metadata": {},
     "output_type": "execute_result"
    }
   ],
   "source": [
    "risultato_sentiment"
   ]
  }
 ],
 "metadata": {
  "kernelspec": {
   "display_name": ".venv",
   "language": "python",
   "name": "python3"
  },
  "language_info": {
   "codemirror_mode": {
    "name": "ipython",
    "version": 3
   },
   "file_extension": ".py",
   "mimetype": "text/x-python",
   "name": "python",
   "nbconvert_exporter": "python",
   "pygments_lexer": "ipython3",
   "version": "3.12.2"
  }
 },
 "nbformat": 4,
 "nbformat_minor": 2
}
