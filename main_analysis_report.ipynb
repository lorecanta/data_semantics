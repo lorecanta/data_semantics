{
 "cells": [
  {
   "cell_type": "code",
   "execution_count": null,
   "metadata": {},
   "outputs": [],
   "source": [
    "from shared import utils_analysis"
   ]
  },
  {
   "cell_type": "code",
   "execution_count": null,
   "metadata": {},
   "outputs": [],
   "source": [
    "top_entities = utils_analysis.get_top_entities(db_name= \"analisi_centri\" ,entity=\"PER\", n=5)\n",
    "utils_analysis.generate_combined_emotion_analysis_report(title=\"Persone\", db_name=\"analisi_centri\",entity=\"PER\", top_entities=top_entities)"
   ]
  }
 ],
 "metadata": {
  "kernelspec": {
   "display_name": ".venv",
   "language": "python",
   "name": "python3"
  },
  "language_info": {
   "name": "python",
   "version": "3.12.2"
  }
 },
 "nbformat": 4,
 "nbformat_minor": 2
}
