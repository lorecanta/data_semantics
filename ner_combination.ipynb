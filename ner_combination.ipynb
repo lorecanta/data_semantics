{
 "cells": [
  {
   "cell_type": "code",
   "execution_count": 1,
   "metadata": {},
   "outputs": [],
   "source": [
    "from utils import load_model_and_files, get_model_details, reconstruct_word, merge_results"
   ]
  },
  {
   "cell_type": "code",
   "execution_count": null,
   "metadata": {},
   "outputs": [],
   "source": [
    "# 1. Recupera gli ID dei modelli e i relativi file dal file .env\n",
    "(model_1_id, model_1_files), (model_2_id, model_2_files) = get_model_details()\n",
    "\n",
    "# 2. Carica le pipeline per i modelli\n",
    "model_1_pipeline = load_model_and_files(model_1_id, model_1_files)\n",
    "model_2_pipeline = load_model_and_files(model_2_id, model_2_files)"
   ]
  },
  {
   "cell_type": "code",
   "execution_count": 16,
   "metadata": {},
   "outputs": [
    {
     "name": "stdout",
     "output_type": "stream",
     "text": [
      "Vorrei sapere se c'è qualche (seria)speranza anche per chi - dopo anni di problemi seri (endometriosi e fibromi uterino) - sta raggiungendo i 50 anni. (Sono consapevole di essere anzianotta, ma la speranza c'è sempre). Grazie\n",
      "\n",
      "Risultati finali dopo unione dei modelli:\n",
      "Parola: endoosi, Entità: DIAGNOSI E COMORBIDITA (B), Score: 0.7642\n",
      "--------------------------------\n",
      "Parola: fibromi, Entità: DIAGNOSI E COMORBIDITA (B), Score: 0.8813\n",
      "--------------------------------\n",
      "Parola: uterino, Entità: DIAGNOSI E COMORBIDITA (I), Score: 0.6994\n",
      "--------------------------------\n"
     ]
    }
   ],
   "source": [
    "# 3. Definisci il testo su cui eseguire l'analisi\n",
    "text = \"Vorrei sapere se c'è qualche (seria)speranza anche per chi - dopo anni di problemi seri (endometriosi e fibromi uterino) - sta raggiungendo i 50 anni. (Sono consapevole di essere anzianotta, ma la speranza c'è sempre). Grazie\"\n",
    "\n",
    "# 4. Esegui l'analisi sui modelli solo se le pipeline sono caricate correttamente\n",
    "result_1 = []\n",
    "if model_1_pipeline:\n",
    "    result_1 = model_1_pipeline(text)\n",
    "else:\n",
    "    print(f\"Errore nel caricare la pipeline per il modello 1: {model_1_id}\")\n",
    "\n",
    "result_2 = []\n",
    "if model_2_pipeline:\n",
    "    result_2 = model_2_pipeline(text)\n",
    "else:\n",
    "    print(f\"Errore nel caricare la pipeline per il modello 2: {model_2_id}\")\n",
    "\n",
    "# 5. Ricostruisci i risultati dai sub-token in parole complete per entrambi i modelli\n",
    "reconstructed_model_1_results = reconstruct_word(result_1) if result_1 else []\n",
    "reconstructed_model_2_results = reconstruct_word(result_2) if result_2 else []\n",
    "\n",
    "# 6. Unisci i risultati dei due modelli, con la preferenza per il modello 2\n",
    "final_results = merge_results(reconstructed_model_1_results, reconstructed_model_2_results)\n",
    "\n",
    "# 7. Stampa i risultati finali in modo leggibile\n",
    "print(text)\n",
    "print(\"\\nRisultati finali dopo unione dei modelli:\")\n",
    "for result in final_results:\n",
    "    print(f\"Parola: {result['word']}, Entità: {result['entity']}, Score: {result['score']:.4f}\")\n",
    "    print(\"--------------------------------\")"
   ]
  }
 ],
 "metadata": {
  "kernelspec": {
   "display_name": ".venv",
   "language": "python",
   "name": "python3"
  },
  "language_info": {
   "codemirror_mode": {
    "name": "ipython",
    "version": 3
   },
   "file_extension": ".py",
   "mimetype": "text/x-python",
   "name": "python",
   "nbconvert_exporter": "python",
   "pygments_lexer": "ipython3",
   "version": "3.12.2"
  }
 },
 "nbformat": 4,
 "nbformat_minor": 2
}
