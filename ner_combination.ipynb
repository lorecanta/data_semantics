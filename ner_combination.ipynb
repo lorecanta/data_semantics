{
 "cells": [
  {
   "cell_type": "code",
   "execution_count": 7,
   "metadata": {},
   "outputs": [],
   "source": [
    "from utils import load_model_and_files, get_model_details, reconstruct_word, merge_results, preprocess_text, preprocess_stopwords, preprocess_lemmatization, traduci_output"
   ]
  },
  {
   "cell_type": "markdown",
   "metadata": {},
   "source": [
    "### carico i modelli"
   ]
  },
  {
   "cell_type": "code",
   "execution_count": 8,
   "metadata": {},
   "outputs": [
    {
     "name": "stdout",
     "output_type": "stream",
     "text": [
      "Caricamento modello 1: osiria/bert-italian-uncased-ner\n"
     ]
    },
    {
     "name": "stderr",
     "output_type": "stream",
     "text": [
      "Device set to use cpu\n"
     ]
    },
    {
     "name": "stdout",
     "output_type": "stream",
     "text": [
      "Caricamento modello 2: IVN-RIN/MedPsyNIT\n"
     ]
    },
    {
     "name": "stderr",
     "output_type": "stream",
     "text": [
      "Device set to use cpu\n"
     ]
    },
    {
     "name": "stdout",
     "output_type": "stream",
     "text": [
      "Caricamento modello 3: SamLowe/roberta-base-go_emotions\n"
     ]
    },
    {
     "name": "stderr",
     "output_type": "stream",
     "text": [
      "Device set to use cpu\n"
     ]
    },
    {
     "name": "stdout",
     "output_type": "stream",
     "text": [
      "Caricamento modello 4: Helsinki-NLP/opus-mt-it-en\n"
     ]
    }
   ],
   "source": [
    "# 1. Recupera i dettagli dei modelli\n",
    "model_details = get_model_details()\n",
    "\n",
    "# 2. Assegna manualmente le tuple a  separate\n",
    "(model_1_id, model_1_type, model_1_files), (model_2_id, model_2_type, model_2_files), (model_3_id, model_3_type, model_3_files), (model_4_id, model_4_type, model_4_files) = model_details\n",
    "\n",
    "# 3. Usa i dettagli per caricare i modelli\n",
    "print(f\"Caricamento modello 1: {model_1_id}\")\n",
    "model_1_pipeline = load_model_and_files(model_1_id, model_type=model_1_type)\n",
    "\n",
    "print(f\"Caricamento modello 2: {model_2_id}\")\n",
    "model_2_pipeline = load_model_and_files(model_2_id, model_type=model_2_type)\n",
    "\n",
    "print(f\"Caricamento modello 3: {model_3_id}\")\n",
    "model_3_pipeline = load_model_and_files(model_3_id, model_type=model_3_type)\n",
    "\n",
    "print(f\"Caricamento modello 4: {model_4_id}\")\n",
    "model_4_pipeline = load_model_and_files(model_4_id, model_type=model_4_type)\n"
   ]
  },
  {
   "cell_type": "markdown",
   "metadata": {},
   "source": [
    "### faccio una prova utilizzando direttamente i modelli sul testo crudo"
   ]
  },
  {
   "cell_type": "code",
   "execution_count": 9,
   "metadata": {},
   "outputs": [
    {
     "name": "stdout",
     "output_type": "stream",
     "text": [
      "Vorrei sapere se Giulia che vive Milano c'è qualche (seria)speranza anche per chi - dopo anni di problemi seri (endometriosi e fibromi uterino) - sta raggiungendo i 50 anni. (Sono consapevole di essere anzianotta, ma la speranza c'è sempre). Grazie\n",
      "\n",
      "Risultati finali dopo unione dei modelli:\n",
      "Parola: giulia, Entità: PER, Score: 0.9279\n",
      "--------------------------------\n",
      "Parola: milano, Entità: LOC, Score: 0.7912\n",
      "--------------------------------\n",
      "Parola: endometriosi, Entità: DIAGNOSI E COMORBIDITA (B), Score: 0.7861\n",
      "--------------------------------\n",
      "Parola: fibromi, Entità: DIAGNOSI E COMORBIDITA (B), Score: 0.8488\n",
      "--------------------------------\n",
      "Parola: uterino, Entità: DIAGNOSI E COMORBIDITA (I), Score: 0.7146\n",
      "--------------------------------\n"
     ]
    }
   ],
   "source": [
    "# 3. Definisci il testo su cui eseguire l'analisi\n",
    "text = \"Vorrei sapere se Giulia che vive Milano c'è qualche (seria)speranza anche per chi - dopo anni di problemi seri (endometriosi e fibromi uterino) - sta raggiungendo i 50 anni. (Sono consapevole di essere anzianotta, ma la speranza c'è sempre). Grazie\"\n",
    "\n",
    "# 4. Esegui l'analisi sui modelli solo se le pipeline sono caricate correttamente\n",
    "result_1 = []\n",
    "if model_1_pipeline:\n",
    "    result_1 = model_1_pipeline(text)\n",
    "else:\n",
    "    print(f\"Errore nel caricare la pipeline per il modello 1: {model_1_id}\")\n",
    "\n",
    "result_2 = []\n",
    "if model_2_pipeline:\n",
    "    result_2 = model_2_pipeline(text)\n",
    "else:\n",
    "    print(f\"Errore nel caricare la pipeline per il modello 2: {model_2_id}\")\n",
    "\n",
    "# 5. Ricostruisci i risultati dai sub-token in parole complete per entrambi i modelli\n",
    "reconstructed_model_1_results = reconstruct_word(result_1) if result_1 else []\n",
    "reconstructed_model_2_results = reconstruct_word(result_2) if result_2 else []\n",
    "\n",
    "# 6. Unisci i risultati dei due modelli, con la preferenza per il modello 2\n",
    "final_results = merge_results(reconstructed_model_1_results, reconstructed_model_2_results)\n",
    "\n",
    "# 7. Stampa i risultati finali in modo leggibile\n",
    "print(text)\n",
    "print(\"\\nRisultati finali dopo unione dei modelli:\")\n",
    "for result in final_results:\n",
    "    print(f\"Parola: {result['word']}, Entità: {result['entity']}, Score: {result['score']:.4f}\")\n",
    "    print(\"--------------------------------\")"
   ]
  },
  {
   "cell_type": "markdown",
   "metadata": {},
   "source": [
    "### faccio una prova puleno il testo"
   ]
  },
  {
   "cell_type": "code",
   "execution_count": 4,
   "metadata": {},
   "outputs": [
    {
     "name": "stdout",
     "output_type": "stream",
     "text": [
      "Vorrei sapere se Giulia che vive Milano c'è qualche (seria)speranza anche per chi - dopo anni di problemi seri (endometriosi e fibromi uterino) - sta raggiungendo i 50 anni. (Sono consapevole di essere anzianotta, ma la speranza c'è sempre). Grazie\n",
      "volere sapere Giulia vivere Milano c ' serio speranza problema serio endometrioso fibrome uterino raggiungere il 50 . consapevole anzianotta , speranza c ' .\n",
      "\n",
      "Risultati finali dopo unione dei modelli:\n",
      "Parola: giulia, Entità: MISC, Score: 0.3940\n",
      "--------------------------------\n",
      "Parola: milano, Entità: MISC, Score: 0.5187\n",
      "--------------------------------\n",
      "Parola: speranza, Entità: MISC, Score: 0.3922\n",
      "--------------------------------\n",
      "Parola: endometrioso, Entità: DIAGNOSI E COMORBIDITA (B), Score: 0.4980\n",
      "--------------------------------\n",
      "Parola: fime, Entità: DIAGNOSI E COMORBIDITA (I), Score: 0.5342\n",
      "--------------------------------\n",
      "Parola: uterino, Entità: DIAGNOSI E COMORBIDITA (I), Score: 0.6979\n",
      "--------------------------------\n"
     ]
    }
   ],
   "source": [
    "# 3. Definisci il testo su cui eseguire l'analisi\n",
    "text = \"Vorrei sapere se Giulia che vive Milano c'è qualche (seria)speranza anche per chi - dopo anni di problemi seri (endometriosi e fibromi uterino) - sta raggiungendo i 50 anni. (Sono consapevole di essere anzianotta, ma la speranza c'è sempre). Grazie\"\n",
    "\n",
    "text_processed = preprocess_text(text)\n",
    "text_processed = preprocess_stopwords(text_processed)\n",
    "text_processed = preprocess_lemmatization(text_processed)\n",
    "\n",
    "# 4. Esegui l'analisi sui modelli solo se le pipeline sono caricate correttamente\n",
    "result_1 = []\n",
    "if model_1_pipeline:\n",
    "    result_1 = model_1_pipeline(text_processed)\n",
    "else:\n",
    "    print(f\"Errore nel caricare la pipeline per il modello 1: {model_1_id}\")\n",
    "\n",
    "result_2 = []\n",
    "if model_2_pipeline:\n",
    "    result_2 = model_2_pipeline(text_processed)\n",
    "else:\n",
    "    print(f\"Errore nel caricare la pipeline per il modello 2: {model_2_id}\")\n",
    "\n",
    "# 5. Ricostruisci i risultati dai sub-token in parole complete per entrambi i modelli\n",
    "reconstructed_model_1_results = reconstruct_word(result_1) if result_1 else []\n",
    "reconstructed_model_2_results = reconstruct_word(result_2) if result_2 else []\n",
    "\n",
    "# 6. Unisci i risultati dei due modelli, con la preferenza per il modello 2\n",
    "final_results = merge_results(reconstructed_model_1_results, reconstructed_model_2_results)\n",
    "\n",
    "# 7. Stampa i risultati finali in modo leggibile\n",
    "print(text)\n",
    "print(text_processed)\n",
    "print(\"\\nRisultati finali dopo unione dei modelli:\")\n",
    "for result in final_results:\n",
    "    print(f\"Parola: {result['word']}, Entità: {result['entity']}, Score: {result['score']:.4f}\")\n",
    "    print(\"--------------------------------\")"
   ]
  },
  {
   "cell_type": "markdown",
   "metadata": {},
   "source": [
    "### faccio sentiment Analys"
   ]
  },
  {
   "cell_type": "code",
   "execution_count": 13,
   "metadata": {},
   "outputs": [],
   "source": [
    "# Tradurre il testo con il modello di traduzione\n",
    "text_tradotto = model_4_pipeline(text)\n",
    "\n",
    "# Classificare le emozioni nel testo tradotto\n",
    "output_classificazione = model_3_pipeline(text_tradotto)\n",
    "\n",
    "# Tradurre i label delle emozioni in italiano\n",
    "output_tradotto = traduci_output(output_classificazione[0])"
   ]
  },
  {
   "cell_type": "code",
   "execution_count": 14,
   "metadata": {},
   "outputs": [
    {
     "data": {
      "text/plain": [
       "[{'label': 'desiderio', 'score': 0.43025192618370056},\n",
       " {'label': 'curiosità', 'score': 0.3219577372074127},\n",
       " {'label': 'ottimismo', 'score': 0.27467259764671326},\n",
       " {'label': 'neutrale', 'score': 0.09160686284303665},\n",
       " {'label': 'confusione', 'score': 0.024215228855609894},\n",
       " {'label': 'cura', 'score': 0.022350097075104713},\n",
       " {'label': 'approvazione', 'score': 0.01997651718556881},\n",
       " {'label': 'delusione', 'score': 0.011293482966721058},\n",
       " {'label': 'tristezza', 'score': 0.009755534119904041},\n",
       " {'label': 'amore', 'score': 0.006692277267575264},\n",
       " {'label': 'ammirazione', 'score': 0.006643324624747038},\n",
       " {'label': 'disapprovazione', 'score': 0.006224799435585737},\n",
       " {'label': 'eccitazione', 'score': 0.005988406017422676},\n",
       " {'label': 'realizzazione', 'score': 0.0058791846968233585},\n",
       " {'label': 'fastidio', 'score': 0.005689882207661867},\n",
       " {'label': 'sorpresa', 'score': 0.0050217569805681705},\n",
       " {'label': 'paura', 'score': 0.004136730916798115},\n",
       " {'label': 'rimorso', 'score': 0.003243574872612953},\n",
       " {'label': 'nervosismo', 'score': 0.002910251496359706},\n",
       " {'label': 'gioia', 'score': 0.002082474296912551},\n",
       " {'label': 'rabbia', 'score': 0.00207831640727818},\n",
       " {'label': 'divertimento', 'score': 0.0018014325760304928},\n",
       " {'label': 'disgusto', 'score': 0.0017025824636220932},\n",
       " {'label': 'lutto', 'score': 0.001147025148384273},\n",
       " {'label': 'gratitudine', 'score': 0.0010012099519371986},\n",
       " {'label': 'rilievo', 'score': 0.0006475269328802824},\n",
       " {'label': 'imbarazzo', 'score': 0.0006063764449208975},\n",
       " {'label': 'orgoglio', 'score': 0.00034809234784916043}]"
      ]
     },
     "execution_count": 14,
     "metadata": {},
     "output_type": "execute_result"
    }
   ],
   "source": [
    "output_tradotto"
   ]
  }
 ],
 "metadata": {
  "kernelspec": {
   "display_name": ".venv",
   "language": "python",
   "name": "python3"
  },
  "language_info": {
   "codemirror_mode": {
    "name": "ipython",
    "version": 3
   },
   "file_extension": ".py",
   "mimetype": "text/x-python",
   "name": "python",
   "nbconvert_exporter": "python",
   "pygments_lexer": "ipython3",
   "version": "3.12.2"
  }
 },
 "nbformat": 4,
 "nbformat_minor": 2
}
